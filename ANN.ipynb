{
 "cells": [
  {
   "cell_type": "code",
   "execution_count": 6,
   "metadata": {},
   "outputs": [],
   "source": [
    "# Importing the libraries\n",
    "import numpy as np\n",
    "import matplotlib.pyplot as plt\n",
    "import pandas as pd\n",
    "import warnings\n",
    "warnings.filterwarnings('ignore')"
   ]
  },
  {
   "cell_type": "code",
   "execution_count": 7,
   "metadata": {},
   "outputs": [],
   "source": [
    "# Importing the dataset\n",
    "dataset = pd.read_csv('Churn_Modelling.csv')\n",
    "X = dataset.iloc[:, 3:13].values\n",
    "y = dataset.iloc[:, 13].values"
   ]
  },
  {
   "cell_type": "code",
   "execution_count": 8,
   "metadata": {},
   "outputs": [
    {
     "data": {
      "text/html": [
       "<div>\n",
       "<style scoped>\n",
       "    .dataframe tbody tr th:only-of-type {\n",
       "        vertical-align: middle;\n",
       "    }\n",
       "\n",
       "    .dataframe tbody tr th {\n",
       "        vertical-align: top;\n",
       "    }\n",
       "\n",
       "    .dataframe thead th {\n",
       "        text-align: right;\n",
       "    }\n",
       "</style>\n",
       "<table border=\"1\" class=\"dataframe\">\n",
       "  <thead>\n",
       "    <tr style=\"text-align: right;\">\n",
       "      <th></th>\n",
       "      <th>RowNumber</th>\n",
       "      <th>CustomerId</th>\n",
       "      <th>Surname</th>\n",
       "      <th>CreditScore</th>\n",
       "      <th>Geography</th>\n",
       "      <th>Gender</th>\n",
       "      <th>Age</th>\n",
       "      <th>Tenure</th>\n",
       "      <th>Balance</th>\n",
       "      <th>NumOfProducts</th>\n",
       "      <th>HasCrCard</th>\n",
       "      <th>IsActiveMember</th>\n",
       "      <th>EstimatedSalary</th>\n",
       "      <th>Exited</th>\n",
       "    </tr>\n",
       "  </thead>\n",
       "  <tbody>\n",
       "    <tr>\n",
       "      <th>0</th>\n",
       "      <td>1</td>\n",
       "      <td>15634602</td>\n",
       "      <td>Hargrave</td>\n",
       "      <td>619</td>\n",
       "      <td>France</td>\n",
       "      <td>Female</td>\n",
       "      <td>42</td>\n",
       "      <td>2</td>\n",
       "      <td>0.00</td>\n",
       "      <td>1</td>\n",
       "      <td>1</td>\n",
       "      <td>1</td>\n",
       "      <td>101348.88</td>\n",
       "      <td>1</td>\n",
       "    </tr>\n",
       "    <tr>\n",
       "      <th>1</th>\n",
       "      <td>2</td>\n",
       "      <td>15647311</td>\n",
       "      <td>Hill</td>\n",
       "      <td>608</td>\n",
       "      <td>Spain</td>\n",
       "      <td>Female</td>\n",
       "      <td>41</td>\n",
       "      <td>1</td>\n",
       "      <td>83807.86</td>\n",
       "      <td>1</td>\n",
       "      <td>0</td>\n",
       "      <td>1</td>\n",
       "      <td>112542.58</td>\n",
       "      <td>0</td>\n",
       "    </tr>\n",
       "    <tr>\n",
       "      <th>2</th>\n",
       "      <td>3</td>\n",
       "      <td>15619304</td>\n",
       "      <td>Onio</td>\n",
       "      <td>502</td>\n",
       "      <td>France</td>\n",
       "      <td>Female</td>\n",
       "      <td>42</td>\n",
       "      <td>8</td>\n",
       "      <td>159660.80</td>\n",
       "      <td>3</td>\n",
       "      <td>1</td>\n",
       "      <td>0</td>\n",
       "      <td>113931.57</td>\n",
       "      <td>1</td>\n",
       "    </tr>\n",
       "    <tr>\n",
       "      <th>3</th>\n",
       "      <td>4</td>\n",
       "      <td>15701354</td>\n",
       "      <td>Boni</td>\n",
       "      <td>699</td>\n",
       "      <td>France</td>\n",
       "      <td>Female</td>\n",
       "      <td>39</td>\n",
       "      <td>1</td>\n",
       "      <td>0.00</td>\n",
       "      <td>2</td>\n",
       "      <td>0</td>\n",
       "      <td>0</td>\n",
       "      <td>93826.63</td>\n",
       "      <td>0</td>\n",
       "    </tr>\n",
       "    <tr>\n",
       "      <th>4</th>\n",
       "      <td>5</td>\n",
       "      <td>15737888</td>\n",
       "      <td>Mitchell</td>\n",
       "      <td>850</td>\n",
       "      <td>Spain</td>\n",
       "      <td>Female</td>\n",
       "      <td>43</td>\n",
       "      <td>2</td>\n",
       "      <td>125510.82</td>\n",
       "      <td>1</td>\n",
       "      <td>1</td>\n",
       "      <td>1</td>\n",
       "      <td>79084.10</td>\n",
       "      <td>0</td>\n",
       "    </tr>\n",
       "  </tbody>\n",
       "</table>\n",
       "</div>"
      ],
      "text/plain": [
       "   RowNumber  CustomerId   Surname  CreditScore Geography  Gender  Age  \\\n",
       "0          1    15634602  Hargrave          619    France  Female   42   \n",
       "1          2    15647311      Hill          608     Spain  Female   41   \n",
       "2          3    15619304      Onio          502    France  Female   42   \n",
       "3          4    15701354      Boni          699    France  Female   39   \n",
       "4          5    15737888  Mitchell          850     Spain  Female   43   \n",
       "\n",
       "   Tenure    Balance  NumOfProducts  HasCrCard  IsActiveMember  \\\n",
       "0       2       0.00              1          1               1   \n",
       "1       1   83807.86              1          0               1   \n",
       "2       8  159660.80              3          1               0   \n",
       "3       1       0.00              2          0               0   \n",
       "4       2  125510.82              1          1               1   \n",
       "\n",
       "   EstimatedSalary  Exited  \n",
       "0        101348.88       1  \n",
       "1        112542.58       0  \n",
       "2        113931.57       1  \n",
       "3         93826.63       0  \n",
       "4         79084.10       0  "
      ]
     },
     "execution_count": 8,
     "metadata": {},
     "output_type": "execute_result"
    }
   ],
   "source": [
    "dataset.head()"
   ]
  },
  {
   "cell_type": "markdown",
   "metadata": {},
   "source": [
    "## Encoding categorical data"
   ]
  },
  {
   "cell_type": "code",
   "execution_count": 9,
   "metadata": {},
   "outputs": [],
   "source": [
    "\n",
    "from sklearn.preprocessing import LabelEncoder, OneHotEncoder\n",
    "labelencoder_X_1 = LabelEncoder()\n",
    "X[:, 1] = labelencoder_X_1.fit_transform(X[:, 1])\n",
    "labelencoder_X_2 = LabelEncoder()\n",
    "X[:, 2] = labelencoder_X_2.fit_transform(X[:, 2])\n",
    "onehotencoder = OneHotEncoder(categorical_features = [1])\n",
    "X = onehotencoder.fit_transform(X).toarray()\n",
    "X = X[:, 1:]\n"
   ]
  },
  {
   "cell_type": "code",
   "execution_count": 10,
   "metadata": {},
   "outputs": [],
   "source": [
    "#We have Encoded the country and gender columns"
   ]
  },
  {
   "cell_type": "code",
   "execution_count": 11,
   "metadata": {},
   "outputs": [],
   "source": [
    "# Splitting the dataset into the Training set and Test set\n",
    "from sklearn.model_selection import train_test_split\n",
    "X_train, X_test, y_train, y_test = train_test_split(X, y, test_size = 0.2, random_state = 0)\n",
    "\n",
    "# Feature Scaling\n",
    "from sklearn.preprocessing import StandardScaler\n",
    "sc = StandardScaler()\n",
    "X_train = sc.fit_transform(X_train)\n",
    "X_test = sc.transform(X_test)"
   ]
  },
  {
   "cell_type": "markdown",
   "metadata": {},
   "source": [
    "## The ANN!"
   ]
  },
  {
   "cell_type": "code",
   "execution_count": 16,
   "metadata": {},
   "outputs": [],
   "source": [
    "#We are using the Keras Library for builinding the ANN Layers"
   ]
  },
  {
   "cell_type": "code",
   "execution_count": 17,
   "metadata": {},
   "outputs": [],
   "source": [
    "\n",
    "\n",
    "# Importing the Keras libraries and packages\n",
    "import keras\n",
    "from keras.models import Sequential\n",
    "from keras.layers import Dense"
   ]
  },
  {
   "cell_type": "code",
   "execution_count": 18,
   "metadata": {},
   "outputs": [],
   "source": [
    "# Initialising the ANN\n",
    "classifier = Sequential()"
   ]
  },
  {
   "cell_type": "code",
   "execution_count": 19,
   "metadata": {},
   "outputs": [],
   "source": [
    "# Adding the input layer and the first hidden layer\n",
    "#output_dim --> No of inputs(No of Nodes)\n",
    "# No of Nodes genrally is taken as the average of input nodes and putputs nodes \n",
    "#here this is 11 input and 1 input so we take 6\n",
    "#init the fucntion for initialization\n",
    "#activiation --> the activation function , relu is therectifier func\n",
    "#input_dim --> the nof input nodes\n",
    "\n",
    "\n",
    "classifier.add(Dense(output_dim = 6, init = 'uniform', activation = 'relu', input_dim = 11))"
   ]
  },
  {
   "cell_type": "code",
   "execution_count": 20,
   "metadata": {},
   "outputs": [],
   "source": [
    "# Adding the second hidden layer\n",
    "classifier.add(Dense(output_dim = 6, init = 'uniform', activation = 'relu'))"
   ]
  },
  {
   "cell_type": "code",
   "execution_count": 21,
   "metadata": {},
   "outputs": [],
   "source": [
    "# Adding the output layer\n",
    "#now we see the actiivation function for output layer is taken as sigmoid\n",
    "#Sigmoid is taken as we need to find the probability hat customer leaves the bank or not \n",
    "#and thus sigmoid is useful for finding probabilty\n",
    "classifier.add(Dense(output_dim = 1, init = 'uniform', activation = 'sigmoid'))"
   ]
  },
  {
   "cell_type": "code",
   "execution_count": 22,
   "metadata": {},
   "outputs": [],
   "source": [
    "#Now for compiling the ANN\n",
    "#optimizer --> the optimium function to find the best weights\n",
    "#thus we use stochastic graident descent(SGD) here the stochastic gradient descent function we use is Adam\n",
    "#loss function in SGD is binary_crossentropy\n"
   ]
  },
  {
   "cell_type": "code",
   "execution_count": 23,
   "metadata": {},
   "outputs": [],
   "source": [
    "# Compiling the ANN\n",
    "classifier.compile(optimizer = 'adam', loss = 'binary_crossentropy', metrics = ['accuracy'])"
   ]
  },
  {
   "cell_type": "code",
   "execution_count": 24,
   "metadata": {},
   "outputs": [],
   "source": [
    "#the batch size is the size after which we want o update the weights\n",
    "#epoch "
   ]
  },
  {
   "cell_type": "code",
   "execution_count": 25,
   "metadata": {},
   "outputs": [
    {
     "name": "stdout",
     "output_type": "stream",
     "text": [
      "Epoch 1/100\n",
      "8000/8000 [==============================] - 3s 367us/step - loss: 0.4903 - acc: 0.7952\n",
      "Epoch 2/100\n",
      "8000/8000 [==============================] - 1s 153us/step - loss: 0.4283 - acc: 0.7960\n",
      "Epoch 3/100\n",
      "8000/8000 [==============================] - 1s 149us/step - loss: 0.4234 - acc: 0.7960\n",
      "Epoch 4/100\n",
      "8000/8000 [==============================] - 1s 146us/step - loss: 0.4196 - acc: 0.8174\n",
      "Epoch 5/100\n",
      "8000/8000 [==============================] - 1s 145us/step - loss: 0.4166 - acc: 0.8264\n",
      "Epoch 6/100\n",
      "8000/8000 [==============================] - 1s 158us/step - loss: 0.4143 - acc: 0.8277\n",
      "Epoch 7/100\n",
      "8000/8000 [==============================] - 1s 156us/step - loss: 0.4133 - acc: 0.8307\n",
      "Epoch 8/100\n",
      "8000/8000 [==============================] - 1s 152us/step - loss: 0.4124 - acc: 0.8312\n",
      "Epoch 9/100\n",
      "8000/8000 [==============================] - 1s 155us/step - loss: 0.4104 - acc: 0.8330\n",
      "Epoch 10/100\n",
      "8000/8000 [==============================] - 1s 153us/step - loss: 0.4100 - acc: 0.8342\n",
      "Epoch 11/100\n",
      "8000/8000 [==============================] - 1s 185us/step - loss: 0.4089 - acc: 0.8330\n",
      "Epoch 12/100\n",
      "8000/8000 [==============================] - 1s 151us/step - loss: 0.4078 - acc: 0.8346\n",
      "Epoch 13/100\n",
      "8000/8000 [==============================] - 1s 149us/step - loss: 0.4078 - acc: 0.8344\n",
      "Epoch 14/100\n",
      "8000/8000 [==============================] - 1s 182us/step - loss: 0.4072 - acc: 0.8342\n",
      "Epoch 15/100\n",
      "8000/8000 [==============================] - 2s 190us/step - loss: 0.4065 - acc: 0.8335\n",
      "Epoch 16/100\n",
      "8000/8000 [==============================] - 1s 184us/step - loss: 0.4059 - acc: 0.8351\n",
      "Epoch 17/100\n",
      "8000/8000 [==============================] - 1s 151us/step - loss: 0.4056 - acc: 0.8356\n",
      "Epoch 18/100\n",
      "8000/8000 [==============================] - 1s 151us/step - loss: 0.4050 - acc: 0.8345\n",
      "Epoch 19/100\n",
      "8000/8000 [==============================] - 1s 145us/step - loss: 0.4049 - acc: 0.8357\n",
      "Epoch 20/100\n",
      "8000/8000 [==============================] - 1s 143us/step - loss: 0.4042 - acc: 0.8355\n",
      "Epoch 21/100\n",
      "8000/8000 [==============================] - 1s 142us/step - loss: 0.4045 - acc: 0.8341\n",
      "Epoch 22/100\n",
      "8000/8000 [==============================] - 1s 143us/step - loss: 0.4037 - acc: 0.8342\n",
      "Epoch 23/100\n",
      "8000/8000 [==============================] - 1s 174us/step - loss: 0.4035 - acc: 0.8344\n",
      "Epoch 24/100\n",
      "8000/8000 [==============================] - 1s 170us/step - loss: 0.4032 - acc: 0.8349\n",
      "Epoch 25/100\n",
      "8000/8000 [==============================] - 2s 201us/step - loss: 0.4029 - acc: 0.8362\n",
      "Epoch 26/100\n",
      "8000/8000 [==============================] - 1s 152us/step - loss: 0.4031 - acc: 0.8359\n",
      "Epoch 27/100\n",
      "8000/8000 [==============================] - 2s 213us/step - loss: 0.4028 - acc: 0.8354 1s - lo\n",
      "Epoch 28/100\n",
      "8000/8000 [==============================] - 1s 157us/step - loss: 0.4027 - acc: 0.8341\n",
      "Epoch 29/100\n",
      "8000/8000 [==============================] - 1s 155us/step - loss: 0.4023 - acc: 0.8352\n",
      "Epoch 30/100\n",
      "8000/8000 [==============================] - 2s 215us/step - loss: 0.4023 - acc: 0.8360\n",
      "Epoch 31/100\n",
      "8000/8000 [==============================] - 2s 244us/step - loss: 0.4018 - acc: 0.8354 3\n",
      "Epoch 32/100\n",
      "8000/8000 [==============================] - 2s 204us/step - loss: 0.4018 - acc: 0.8364\n",
      "Epoch 33/100\n",
      "8000/8000 [==============================] - 2s 224us/step - loss: 0.4019 - acc: 0.8354\n",
      "Epoch 34/100\n",
      "8000/8000 [==============================] - 1s 184us/step - loss: 0.4017 - acc: 0.8359\n",
      "Epoch 35/100\n",
      "8000/8000 [==============================] - 1s 150us/step - loss: 0.4014 - acc: 0.8327\n",
      "Epoch 36/100\n",
      "8000/8000 [==============================] - 1s 157us/step - loss: 0.4014 - acc: 0.8352\n",
      "Epoch 37/100\n",
      "8000/8000 [==============================] - 2s 219us/step - loss: 0.4011 - acc: 0.8365\n",
      "Epoch 38/100\n",
      "8000/8000 [==============================] - 2s 203us/step - loss: 0.4011 - acc: 0.8326 0s - loss: 0.4002 - acc: 0.8\n",
      "Epoch 39/100\n",
      "8000/8000 [==============================] - 1s 171us/step - loss: 0.4013 - acc: 0.8361\n",
      "Epoch 40/100\n",
      "8000/8000 [==============================] - 1s 162us/step - loss: 0.4011 - acc: 0.8354\n",
      "Epoch 41/100\n",
      "8000/8000 [==============================] - 2s 235us/step - loss: 0.4009 - acc: 0.8344\n",
      "Epoch 42/100\n",
      "8000/8000 [==============================] - 1s 179us/step - loss: 0.4012 - acc: 0.8342\n",
      "Epoch 43/100\n",
      "8000/8000 [==============================] - 1s 161us/step - loss: 0.4002 - acc: 0.8350\n",
      "Epoch 44/100\n",
      "8000/8000 [==============================] - 1s 184us/step - loss: 0.4006 - acc: 0.8340\n",
      "Epoch 45/100\n",
      "8000/8000 [==============================] - 1s 160us/step - loss: 0.4007 - acc: 0.8350\n",
      "Epoch 46/100\n",
      "8000/8000 [==============================] - 1s 131us/step - loss: 0.4003 - acc: 0.8349\n",
      "Epoch 47/100\n",
      "8000/8000 [==============================] - 1s 135us/step - loss: 0.4005 - acc: 0.8349\n",
      "Epoch 48/100\n",
      "8000/8000 [==============================] - 1s 187us/step - loss: 0.4003 - acc: 0.8365\n",
      "Epoch 49/100\n",
      "8000/8000 [==============================] - 2s 202us/step - loss: 0.4004 - acc: 0.8334\n",
      "Epoch 50/100\n",
      "8000/8000 [==============================] - 1s 179us/step - loss: 0.4008 - acc: 0.8366\n",
      "Epoch 51/100\n",
      "8000/8000 [==============================] - 1s 145us/step - loss: 0.4003 - acc: 0.8347\n",
      "Epoch 52/100\n",
      "8000/8000 [==============================] - 2s 206us/step - loss: 0.4001 - acc: 0.8352\n",
      "Epoch 53/100\n",
      "8000/8000 [==============================] - 1s 182us/step - loss: 0.4004 - acc: 0.8346\n",
      "Epoch 54/100\n",
      "8000/8000 [==============================] - 1s 171us/step - loss: 0.4002 - acc: 0.8350\n",
      "Epoch 55/100\n",
      "8000/8000 [==============================] - 1s 148us/step - loss: 0.4004 - acc: 0.8355\n",
      "Epoch 56/100\n",
      "8000/8000 [==============================] - 2s 203us/step - loss: 0.4003 - acc: 0.8356\n",
      "Epoch 57/100\n",
      "8000/8000 [==============================] - 2s 252us/step - loss: 0.4003 - acc: 0.8347\n",
      "Epoch 58/100\n",
      "8000/8000 [==============================] - 2s 295us/step - loss: 0.4000 - acc: 0.8355\n",
      "Epoch 59/100\n",
      "8000/8000 [==============================] - 2s 213us/step - loss: 0.4005 - acc: 0.8349\n",
      "Epoch 60/100\n",
      "8000/8000 [==============================] - 1s 161us/step - loss: 0.4000 - acc: 0.8356\n",
      "Epoch 61/100\n",
      "8000/8000 [==============================] - 1s 132us/step - loss: 0.3999 - acc: 0.8360\n",
      "Epoch 62/100\n",
      "8000/8000 [==============================] - 1s 132us/step - loss: 0.4000 - acc: 0.8351\n",
      "Epoch 63/100\n",
      "8000/8000 [==============================] - 1s 170us/step - loss: 0.3999 - acc: 0.8357\n",
      "Epoch 64/100\n",
      "8000/8000 [==============================] - 2s 210us/step - loss: 0.3998 - acc: 0.8355\n",
      "Epoch 65/100\n",
      "8000/8000 [==============================] - 2s 198us/step - loss: 0.4002 - acc: 0.8354\n",
      "Epoch 66/100\n",
      "8000/8000 [==============================] - 1s 182us/step - loss: 0.3998 - acc: 0.8352\n",
      "Epoch 67/100\n",
      "8000/8000 [==============================] - 1s 150us/step - loss: 0.3997 - acc: 0.8361\n",
      "Epoch 68/100\n",
      "8000/8000 [==============================] - 1s 139us/step - loss: 0.3994 - acc: 0.8356\n",
      "Epoch 69/100\n",
      "8000/8000 [==============================] - 1s 131us/step - loss: 0.3999 - acc: 0.8356\n",
      "Epoch 70/100\n",
      "8000/8000 [==============================] - 1s 116us/step - loss: 0.3996 - acc: 0.8347\n",
      "Epoch 71/100\n",
      "8000/8000 [==============================] - 1s 119us/step - loss: 0.3997 - acc: 0.8347\n",
      "Epoch 72/100\n",
      "8000/8000 [==============================] - ETA: 0s - loss: 0.4013 - acc: 0.835 - 1s 124us/step - loss: 0.3994 - acc: 0.8361\n",
      "Epoch 73/100\n",
      "8000/8000 [==============================] - 1s 125us/step - loss: 0.3991 - acc: 0.8344\n",
      "Epoch 74/100\n",
      "8000/8000 [==============================] - 1s 127us/step - loss: 0.3996 - acc: 0.8359\n",
      "Epoch 75/100\n",
      "8000/8000 [==============================] - 1s 126us/step - loss: 0.3995 - acc: 0.8347\n",
      "Epoch 76/100\n",
      "8000/8000 [==============================] - ETA: 0s - loss: 0.4003 - acc: 0.834 - 1s 132us/step - loss: 0.3994 - acc: 0.8345\n",
      "Epoch 77/100\n",
      "8000/8000 [==============================] - 1s 131us/step - loss: 0.3995 - acc: 0.8355\n",
      "Epoch 78/100\n",
      "8000/8000 [==============================] - 1s 123us/step - loss: 0.3996 - acc: 0.8364\n",
      "Epoch 79/100\n",
      "8000/8000 [==============================] - 1s 114us/step - loss: 0.3993 - acc: 0.8359\n",
      "Epoch 80/100\n",
      "8000/8000 [==============================] - 1s 129us/step - loss: 0.3995 - acc: 0.8352\n",
      "Epoch 81/100\n"
     ]
    },
    {
     "name": "stdout",
     "output_type": "stream",
     "text": [
      "8000/8000 [==============================] - 1s 132us/step - loss: 0.3992 - acc: 0.8357\n",
      "Epoch 82/100\n",
      "8000/8000 [==============================] - 2s 208us/step - loss: 0.3992 - acc: 0.8357\n",
      "Epoch 83/100\n",
      "8000/8000 [==============================] - 2s 272us/step - loss: 0.3991 - acc: 0.8364 1s - loss: 0.3\n",
      "Epoch 84/100\n",
      "8000/8000 [==============================] - 2s 244us/step - loss: 0.3993 - acc: 0.8361\n",
      "Epoch 85/100\n",
      "8000/8000 [==============================] - 2s 221us/step - loss: 0.3991 - acc: 0.8362\n",
      "Epoch 86/100\n",
      "8000/8000 [==============================] - 2s 191us/step - loss: 0.3992 - acc: 0.8360\n",
      "Epoch 87/100\n",
      "8000/8000 [==============================] - 1s 168us/step - loss: 0.3991 - acc: 0.8359 0s - loss: 0.3997 - acc: \n",
      "Epoch 88/100\n",
      "8000/8000 [==============================] - 1s 142us/step - loss: 0.3990 - acc: 0.8359\n",
      "Epoch 89/100\n",
      "8000/8000 [==============================] - 1s 134us/step - loss: 0.3993 - acc: 0.8352\n",
      "Epoch 90/100\n",
      "8000/8000 [==============================] - 1s 127us/step - loss: 0.3990 - acc: 0.8359\n",
      "Epoch 91/100\n",
      "8000/8000 [==============================] - 1s 153us/step - loss: 0.3989 - acc: 0.8356\n",
      "Epoch 92/100\n",
      "8000/8000 [==============================] - 2s 214us/step - loss: 0.3986 - acc: 0.8354\n",
      "Epoch 93/100\n",
      "8000/8000 [==============================] - 1s 180us/step - loss: 0.3991 - acc: 0.8352\n",
      "Epoch 94/100\n",
      "8000/8000 [==============================] - 1s 165us/step - loss: 0.3989 - acc: 0.8370\n",
      "Epoch 95/100\n",
      "8000/8000 [==============================] - 1s 138us/step - loss: 0.3987 - acc: 0.8359\n",
      "Epoch 96/100\n",
      "8000/8000 [==============================] - 1s 137us/step - loss: 0.3993 - acc: 0.8350\n",
      "Epoch 97/100\n",
      "8000/8000 [==============================] - 1s 132us/step - loss: 0.3984 - acc: 0.8367\n",
      "Epoch 98/100\n",
      "8000/8000 [==============================] - 1s 144us/step - loss: 0.3987 - acc: 0.8361\n",
      "Epoch 99/100\n",
      "8000/8000 [==============================] - 1s 166us/step - loss: 0.3990 - acc: 0.8357\n",
      "Epoch 100/100\n",
      "8000/8000 [==============================] - 1s 134us/step - loss: 0.3987 - acc: 0.8356\n"
     ]
    },
    {
     "data": {
      "text/plain": [
       "<keras.callbacks.History at 0x1e4e083c2e8>"
      ]
     },
     "execution_count": 25,
     "metadata": {},
     "output_type": "execute_result"
    }
   ],
   "source": [
    "# Fitting the ANN to the Training set\n",
    "classifier.fit(X_train, y_train, batch_size = 10, nb_epoch = 100)"
   ]
  },
  {
   "cell_type": "code",
   "execution_count": 26,
   "metadata": {},
   "outputs": [],
   "source": [
    "# Predicting the Test set results\n",
    "y_pred = classifier.predict(X_test)\n",
    "#y_pred>0.5 is taken to check true and false , thus to include only the true values\n",
    "y_pred = (y_pred > 0.5)"
   ]
  },
  {
   "cell_type": "code",
   "execution_count": 27,
   "metadata": {},
   "outputs": [
    {
     "data": {
      "text/plain": [
       "array([[False],\n",
       "       [False],\n",
       "       [False],\n",
       "       ...,\n",
       "       [False],\n",
       "       [False],\n",
       "       [False]])"
      ]
     },
     "execution_count": 27,
     "metadata": {},
     "output_type": "execute_result"
    }
   ],
   "source": [
    "y_pred"
   ]
  },
  {
   "cell_type": "code",
   "execution_count": 28,
   "metadata": {},
   "outputs": [],
   "source": [
    "# Making the Confusion Matrix\n",
    "from sklearn.metrics import confusion_matrix\n",
    "cm = confusion_matrix(y_test, y_pred)"
   ]
  },
  {
   "cell_type": "code",
   "execution_count": 29,
   "metadata": {},
   "outputs": [
    {
     "data": {
      "text/plain": [
       "array([[1548,   47],\n",
       "       [ 259,  146]], dtype=int64)"
      ]
     },
     "execution_count": 29,
     "metadata": {},
     "output_type": "execute_result"
    }
   ],
   "source": [
    "cm"
   ]
  },
  {
   "cell_type": "code",
   "execution_count": null,
   "metadata": {},
   "outputs": [],
   "source": [
    "# The Accuracy of the Model "
   ]
  },
  {
   "cell_type": "code",
   "execution_count": 32,
   "metadata": {},
   "outputs": [
    {
     "name": "stdout",
     "output_type": "stream",
     "text": [
      "The accuracy of the model is\n"
     ]
    },
    {
     "data": {
      "text/plain": [
       "0.8345"
      ]
     },
     "execution_count": 32,
     "metadata": {},
     "output_type": "execute_result"
    }
   ],
   "source": [
    "print('The accuracy of the model is') \n",
    "(1485+184)/2000"
   ]
  },
  {
   "cell_type": "markdown",
   "metadata": {},
   "source": [
    "### We have obtained a Accuracy of 83% using a ANN "
   ]
  },
  {
   "cell_type": "code",
   "execution_count": null,
   "metadata": {},
   "outputs": [],
   "source": []
  }
 ],
 "metadata": {
  "kernelspec": {
   "display_name": "Python 3",
   "language": "python",
   "name": "python3"
  },
  "language_info": {
   "codemirror_mode": {
    "name": "ipython",
    "version": 3
   },
   "file_extension": ".py",
   "mimetype": "text/x-python",
   "name": "python",
   "nbconvert_exporter": "python",
   "pygments_lexer": "ipython3",
   "version": "3.5.6"
  }
 },
 "nbformat": 4,
 "nbformat_minor": 2
}
